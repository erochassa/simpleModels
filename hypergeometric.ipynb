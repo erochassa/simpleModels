{
 "cells": [
  {
   "cell_type": "markdown",
   "metadata": {},
   "source": [
    "# Hypergeometric Distribution\n",
    "\n",
    "### $p_K(k)=\\frac{{r \\choose k}{w \\choose n-k}}{{N \\choose n}}$\n",
    "\n",
    "where:\n",
    "* $N$ is the population size\n",
    "* $n$ is the number of draws\n",
    "* $r$ is the number of success states in the population\n",
    "* $k$ is the number of observed successes\n",
    "* $w$ is the number of unsuccess states, such that $w = N-r$\n",
    "\n",
    "Image an urn with N chips, $r$ red and $w = N-r$ white.\n",
    "If one draws $n$ chips at random, without replacement, then $p_K(k)$ represents\n",
    "the probability of $k$ red chips are chosen."
   ]
  },
  {
   "cell_type": "code",
   "execution_count": 4,
   "metadata": {},
   "outputs": [],
   "source": [
    "import scipy.misc"
   ]
  },
  {
   "cell_type": "code",
   "execution_count": 5,
   "metadata": {},
   "outputs": [],
   "source": [
    "def pK(k, r, N, n):\n",
    "    return scipy.special.comb(r, k)*scipy.special.comb(N-r, n-k)/scipy.special.comb(N,n)"
   ]
  },
  {
   "cell_type": "code",
   "execution_count": 7,
   "metadata": {},
   "outputs": [
    {
     "data": {
      "text/plain": [
       "0.05652173913043478"
      ]
     },
     "execution_count": 7,
     "metadata": {},
     "output_type": "execute_result"
    }
   ],
   "source": [
    "sum([pK(k, 4, 25, 3) for k in range(2,4)])"
   ]
  },
  {
   "cell_type": "code",
   "execution_count": null,
   "metadata": {},
   "outputs": [],
   "source": []
  }
 ],
 "metadata": {
  "kernelspec": {
   "display_name": "Python 3",
   "language": "python",
   "name": "python3"
  },
  "language_info": {
   "codemirror_mode": {
    "name": "ipython",
    "version": 3
   },
   "file_extension": ".py",
   "mimetype": "text/x-python",
   "name": "python",
   "nbconvert_exporter": "python",
   "pygments_lexer": "ipython3",
   "version": "3.5.2"
  }
 },
 "nbformat": 4,
 "nbformat_minor": 2
}
